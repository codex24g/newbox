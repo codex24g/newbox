{
 "cells": [
  {
   "cell_type": "code",
   "execution_count": 1,
   "metadata": {},
   "outputs": [
    {
     "name": "stdout",
     "output_type": "stream",
     "text": [
      "Collecting pyngrok\n",
      "  Downloading pyngrok-7.2.0-py3-none-any.whl.metadata (7.4 kB)\n",
      "Requirement already satisfied: PyYAML>=5.1 in c:\\users\\yogka\\anaconda3\\envs\\tensorflow-gpu\\lib\\site-packages (from pyngrok) (6.0.1)\n",
      "Downloading pyngrok-7.2.0-py3-none-any.whl (22 kB)\n",
      "Installing collected packages: pyngrok\n",
      "Successfully installed pyngrok-7.2.0\n"
     ]
    },
    {
     "name": "stderr",
     "output_type": "stream",
     "text": [
      "WARNING: Ignoring invalid distribution -nnx (c:\\users\\yogka\\anaconda3\\envs\\tensorflow-gpu\\lib\\site-packages)\n",
      "WARNING: Ignoring invalid distribution -nnx (c:\\users\\yogka\\anaconda3\\envs\\tensorflow-gpu\\lib\\site-packages)\n"
     ]
    }
   ],
   "source": [
    "!pip install pyngrok"
   ]
  },
  {
   "cell_type": "code",
   "execution_count": 1,
   "metadata": {},
   "outputs": [
    {
     "name": "stdout",
     "output_type": "stream",
     "text": [
      "WARNING:tensorflow:From c:\\Users\\yogka\\anaconda3\\envs\\TensorFlow-GPU\\lib\\site-packages\\keras\\src\\losses.py:2976: The name tf.losses.sparse_softmax_cross_entropy is deprecated. Please use tf.compat.v1.losses.sparse_softmax_cross_entropy instead.\n",
      "\n",
      "Flask version: 3.0.3\n",
      "Pillow version: 10.4.0\n",
      "Numpy version: 1.26.4\n",
      "TensorFlow version: 2.15.0\n"
     ]
    },
    {
     "name": "stderr",
     "output_type": "stream",
     "text": [
      "C:\\Users\\yogka\\AppData\\Local\\Temp\\ipykernel_28056\\206707228.py:6: DeprecationWarning: The '__version__' attribute is deprecated and will be removed in Flask 3.1. Use feature detection or 'importlib.metadata.version(\"flask\")' instead.\n",
      "  print(\"Flask version:\", flask.__version__)\n"
     ]
    }
   ],
   "source": [
    "import flask\n",
    "import PIL\n",
    "import numpy\n",
    "import tensorflow as tf\n",
    "\n",
    "print(\"Flask version:\", flask.__version__)\n",
    "print(\"Pillow version:\", PIL.__version__)\n",
    "print(\"Numpy version:\", numpy.__version__)\n",
    "print(\"TensorFlow version:\", tf.__version__)\n"
   ]
  },
  {
   "cell_type": "code",
   "execution_count": 1,
   "metadata": {},
   "outputs": [
    {
     "name": "stdout",
     "output_type": "stream",
     "text": [
      "0.47.7\n"
     ]
    }
   ],
   "source": [
    "import streamlit_webrtc\n",
    "print(streamlit_webrtc.__version__)\n"
   ]
  },
  {
   "cell_type": "code",
   "execution_count": 1,
   "metadata": {},
   "outputs": [],
   "source": [
    "import os \n",
    "from threading import Thread\n",
    "from pyngrok import ngrok"
   ]
  },
  {
   "cell_type": "code",
   "execution_count": 2,
   "metadata": {},
   "outputs": [],
   "source": [
    "ngrok.set_auth_token('2kDsdz8D7vC5USetyiBLphC0tst_3XmSfGZ7McVQPrrt4VkCB')"
   ]
  },
  {
   "cell_type": "code",
   "execution_count": 3,
   "metadata": {},
   "outputs": [],
   "source": [
    "def run_streamlit ():\n",
    "    os.system('streamlit run app.py --server.port 8501')"
   ]
  },
  {
   "cell_type": "code",
   "execution_count": 4,
   "metadata": {},
   "outputs": [],
   "source": [
    "thread = Thread(target=run_streamlit)\n",
    "thread.start()"
   ]
  },
  {
   "cell_type": "code",
   "execution_count": 5,
   "metadata": {},
   "outputs": [
    {
     "name": "stdout",
     "output_type": "stream",
     "text": [
      "Your Streamlit app is live at: NgrokTunnel: \"https://1593-116-88-74-127.ngrok-free.app\" -> \"http://localhost:8501\"\n"
     ]
    }
   ],
   "source": [
    "from pyngrok import ngrok\n",
    "\n",
    "public_url = ngrok.connect(addr='8501', proto='http')\n",
    "print('Your Streamlit app is live at:', public_url)\n"
   ]
  },
  {
   "cell_type": "code",
   "execution_count": 6,
   "metadata": {},
   "outputs": [],
   "source": [
    "ngrok.kill()"
   ]
  },
  {
   "cell_type": "code",
   "execution_count": 1,
   "metadata": {},
   "outputs": [
    {
     "name": "stdout",
     "output_type": "stream",
     "text": [
      "WARNING:tensorflow:From c:\\Users\\yogka\\anaconda3\\envs\\TensorFlow-GPU\\lib\\site-packages\\keras\\src\\losses.py:2976: The name tf.losses.sparse_softmax_cross_entropy is deprecated. Please use tf.compat.v1.losses.sparse_softmax_cross_entropy instead.\n",
      "\n",
      "Found 63 images belonging to 3 classes.\n",
      "Found 18 images belonging to 3 classes.\n",
      "WARNING:tensorflow:From c:\\Users\\yogka\\anaconda3\\envs\\TensorFlow-GPU\\lib\\site-packages\\keras\\src\\backend.py:1398: The name tf.executing_eagerly_outside_functions is deprecated. Please use tf.compat.v1.executing_eagerly_outside_functions instead.\n",
      "\n",
      "WARNING:tensorflow:From c:\\Users\\yogka\\anaconda3\\envs\\TensorFlow-GPU\\lib\\site-packages\\keras\\src\\layers\\normalization\\batch_normalization.py:979: The name tf.nn.fused_batch_norm is deprecated. Please use tf.compat.v1.nn.fused_batch_norm instead.\n",
      "\n",
      "Epoch 1/10\n",
      "WARNING:tensorflow:From c:\\Users\\yogka\\anaconda3\\envs\\TensorFlow-GPU\\lib\\site-packages\\keras\\src\\utils\\tf_utils.py:492: The name tf.ragged.RaggedTensorValue is deprecated. Please use tf.compat.v1.ragged.RaggedTensorValue instead.\n",
      "\n",
      "WARNING:tensorflow:From c:\\Users\\yogka\\anaconda3\\envs\\TensorFlow-GPU\\lib\\site-packages\\keras\\src\\engine\\base_layer_utils.py:384: The name tf.executing_eagerly_outside_functions is deprecated. Please use tf.compat.v1.executing_eagerly_outside_functions instead.\n",
      "\n",
      "4/4 [==============================] - 3s 407ms/step - loss: 0.6659 - accuracy: 0.8413 - val_loss: 0.3310 - val_accuracy: 1.0000\n",
      "Epoch 2/10\n",
      "4/4 [==============================] - 1s 217ms/step - loss: 0.2191 - accuracy: 1.0000 - val_loss: 0.1258 - val_accuracy: 1.0000\n",
      "Epoch 3/10\n",
      "4/4 [==============================] - 1s 221ms/step - loss: 0.0964 - accuracy: 1.0000 - val_loss: 0.0550 - val_accuracy: 1.0000\n",
      "Epoch 4/10\n",
      "4/4 [==============================] - 1s 219ms/step - loss: 0.0459 - accuracy: 1.0000 - val_loss: 0.0281 - val_accuracy: 1.0000\n",
      "Epoch 5/10\n",
      "4/4 [==============================] - 1s 212ms/step - loss: 0.0286 - accuracy: 1.0000 - val_loss: 0.0165 - val_accuracy: 1.0000\n",
      "Epoch 6/10\n",
      "4/4 [==============================] - 1s 218ms/step - loss: 0.0182 - accuracy: 1.0000 - val_loss: 0.0109 - val_accuracy: 1.0000\n",
      "Epoch 7/10\n",
      "4/4 [==============================] - 1s 217ms/step - loss: 0.0120 - accuracy: 1.0000 - val_loss: 0.0079 - val_accuracy: 1.0000\n",
      "Epoch 8/10\n",
      "4/4 [==============================] - 1s 221ms/step - loss: 0.0091 - accuracy: 1.0000 - val_loss: 0.0062 - val_accuracy: 1.0000\n",
      "Epoch 9/10\n",
      "4/4 [==============================] - 1s 216ms/step - loss: 0.0070 - accuracy: 1.0000 - val_loss: 0.0053 - val_accuracy: 1.0000\n",
      "Epoch 10/10\n",
      "4/4 [==============================] - 1s 214ms/step - loss: 0.0063 - accuracy: 1.0000 - val_loss: 0.0047 - val_accuracy: 1.0000\n",
      "Model and class names saved successfully.\n"
     ]
    },
    {
     "name": "stderr",
     "output_type": "stream",
     "text": [
      "c:\\Users\\yogka\\anaconda3\\envs\\TensorFlow-GPU\\lib\\site-packages\\keras\\src\\engine\\training.py:3103: UserWarning: You are saving your model as an HDF5 file via `model.save()`. This file format is considered legacy. We recommend using instead the native Keras format, e.g. `model.save('my_model.keras')`.\n",
      "  saving_api.save_model(\n"
     ]
    }
   ],
   "source": [
    "import tensorflow as tf\n",
    "\n",
    "from tensorflow.keras.preprocessing.image import ImageDataGenerator\n",
    "\n",
    "from tensorflow.keras.applications import MobileNetV2\n",
    "\n",
    "from tensorflow.keras.layers import Dense, GlobalAveragePooling2D\n",
    "\n",
    "from tensorflow.keras.models import Model\n",
    "\n",
    "from tensorflow.keras.optimizers import Adam\n",
    "\n",
    "import json\n",
    "\n",
    "\n",
    "\n",
    "# Paths to the dataset directories\n",
    "\n",
    "train_dir = 'train'\n",
    "\n",
    "valid_dir = 'valid'\n",
    "\n",
    "test_dir = 'test'\n",
    "\n",
    "\n",
    "\n",
    "# Image dimensions\n",
    "\n",
    "img_height, img_width = 224, 224\n",
    "\n",
    "batch_size = 16\n",
    "\n",
    "\n",
    "\n",
    "# Data augmentation and preprocessing\n",
    "\n",
    "train_datagen = ImageDataGenerator(\n",
    "\n",
    "    rescale=1./255,\n",
    "\n",
    "    shear_range=0.2,\n",
    "\n",
    "    zoom_range=0.2,\n",
    "\n",
    "    horizontal_flip=True\n",
    "\n",
    ")\n",
    "\n",
    "\n",
    "\n",
    "valid_datagen = ImageDataGenerator(rescale=1./255)\n",
    "\n",
    "\n",
    "\n",
    "train_generator = train_datagen.flow_from_directory(\n",
    "\n",
    "    train_dir,\n",
    "\n",
    "    target_size=(img_height, img_width),\n",
    "\n",
    "    batch_size=batch_size,\n",
    "\n",
    "    class_mode='categorical'\n",
    "\n",
    ")\n",
    "\n",
    "\n",
    "\n",
    "valid_generator = valid_datagen.flow_from_directory(\n",
    "\n",
    "    valid_dir,\n",
    "\n",
    "    target_size=(img_height, img_width),\n",
    "\n",
    "    batch_size=batch_size,\n",
    "\n",
    "    class_mode='categorical'\n",
    "\n",
    ")\n",
    "\n",
    "\n",
    "\n",
    "# Number of classes\n",
    "\n",
    "num_classes = len(train_generator.class_indices)\n",
    "\n",
    "\n",
    "\n",
    "# Load MobileNetV2 model with pre-trained weights and without top layers\n",
    "\n",
    "base_model = MobileNetV2(weights='imagenet', include_top=False, input_shape=(img_height, img_width, 3))\n",
    "\n",
    "\n",
    "\n",
    "# Add custom top layers\n",
    "\n",
    "x = base_model.output\n",
    "\n",
    "x = GlobalAveragePooling2D()(x)\n",
    "\n",
    "x = Dense(1024, activation='relu')(x)\n",
    "\n",
    "predictions = Dense(num_classes, activation='softmax')(x)\n",
    "\n",
    "\n",
    "\n",
    "# Define the model\n",
    "\n",
    "model = Model(inputs=base_model.input, outputs=predictions)\n",
    "\n",
    "\n",
    "\n",
    "# Freeze the base model layers\n",
    "\n",
    "for layer in base_model.layers:\n",
    "\n",
    "    layer.trainable = False\n",
    "\n",
    "\n",
    "\n",
    "# Compile the model\n",
    "\n",
    "model.compile(optimizer=Adam(learning_rate=0.0001),\n",
    "\n",
    "              loss='categorical_crossentropy',\n",
    "\n",
    "              metrics=['accuracy'])\n",
    "\n",
    "\n",
    "\n",
    "# Train the model\n",
    "\n",
    "history = model.fit(\n",
    "\n",
    "    train_generator,\n",
    "\n",
    "    epochs=10,\n",
    "\n",
    "    validation_data=valid_generator\n",
    "\n",
    ")\n",
    "\n",
    "\n",
    "\n",
    "# Save the model\n",
    "\n",
    "model.save('staff_mobilenet_v2_model.h5')\n",
    "\n",
    "\n",
    "\n",
    "# Save class names\n",
    "\n",
    "class_names = list(train_generator.class_indices.keys())\n",
    "\n",
    "with open('class_names.json', 'w') as f:\n",
    "\n",
    "    json.dump(class_names, f)\n",
    "\n",
    "\n",
    "\n",
    "print(\"Model and class names saved successfully.\")\n",
    "\n"
   ]
  }
 ],
 "metadata": {
  "kernelspec": {
   "display_name": "TensorFlow-GPU",
   "language": "python",
   "name": "python3"
  },
  "language_info": {
   "codemirror_mode": {
    "name": "ipython",
    "version": 3
   },
   "file_extension": ".py",
   "mimetype": "text/x-python",
   "name": "python",
   "nbconvert_exporter": "python",
   "pygments_lexer": "ipython3",
   "version": "3.9.18"
  }
 },
 "nbformat": 4,
 "nbformat_minor": 2
}
